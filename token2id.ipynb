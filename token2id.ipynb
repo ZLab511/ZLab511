{
 "cells": [
  {
   "cell_type": "code",
   "execution_count": null,
   "metadata": {},
   "outputs": [],
   "source": [
    "import re\n",
    "\n",
    "with open('F.txt', 'r', encoding='utf-8') as f:\n",
    "    content = f.read()\n",
    "\n",
    "import json\n",
    "\n",
    "\n",
    "# 正则表达式模式来匹配 LaTeX token，包括换行符\n",
    "token_pattern = re.compile(r'''\n",
    "    (\\\\begin\\{[^{}]*\\}|\\\\end\\{[^{}]*\\}    # 匹配 \\begin{} 和 \\end{} 结构\n",
    "    | \\\\[a-zA-Z]+                         # 匹配 LaTeX 命令，如 \\sum, \\leq 等\n",
    "    | \\\\\\\\                                # 匹配双反斜杠 \\\\\n",
    "    | \\\\[{}#%&_$|]                        # 匹配单个特殊字符，如 \\{, \\}, \\#, \\%, \\&, \\_, \\$, \\|\n",
    "    | \\\\[!,:;]                            # 匹配单个标点符号，如 \\!, \\,, \\:, \\;\n",
    "    | \\'[\\^]?                             # 匹配单引号和可能的上标符号，如 \\', \\'^\\ 等\n",
    "    | \\^                                  # 匹配上标符号 ^\n",
    "    | \\_                                  # 匹配下标符号 _\n",
    "    | \\n                                  # 匹配换行符\n",
    "    | \\s+                                 # 匹配一个或多个空格\n",
    "    | [-+*=&/%<>!?.,;:'\"()]               # 匹配原有的符号\n",
    "    | [0-9]                               # 匹配单个数字\n",
    "    | \\$\\$                                # 匹配 $$\n",
    "    | \\S)                                 # 匹配任何非空白字符\n",
    "''', re.VERBOSE)\n",
    "\n",
    "\n",
    "token_to_id = {  \n",
    "    \"PAD\": 0,  \n",
    "    \"BOS\": 1,  \n",
    "    \"EOS\": 2\n",
    "}  \n",
    "  \n",
    "tokens = set(token_pattern.findall(content))\n",
    "  \n",
    "for idx, token in enumerate(sorted(tokens), start=3):  \n",
    "    token_to_id[token] = idx  \n",
    "  \n",
    "id_to_token = {idx: token for token, idx in token_to_id.items()}  \n",
    "  \n",
    "with open('token_to_id.json', 'w', encoding='utf-8') as json_file:  \n",
    "    json.dump(token_to_id, json_file, ensure_ascii=False, indent=4)"
   ]
  },
  {
   "cell_type": "code",
   "execution_count": null,
   "metadata": {},
   "outputs": [],
   "source": [
    "import json\n",
    "\n",
    "class Words:\n",
    "    def __init__(self, token_to_id_path):\n",
    "        with open(token_to_id_path, 'r', encoding='utf-8') as json_file:\n",
    "            self.token_to_id = json.load(json_file)\n",
    "        print(f\"共有{len(self.token_to_id)}个token\")\n",
    "\n",
    "    def __len__(self):\n",
    "        return len(self.token_to_id)\n",
    "\n",
    "    def encode(self, tokens_list):\n",
    "        encoded_inputs = {'input_ids': [], 'attention_mask': []}\n",
    "        for tokens in tokens_list:\n",
    "            number_list = []\n",
    "            i = 0\n",
    "            while i < len(tokens):\n",
    "                match = None\n",
    "                # 尝试匹配最长的子字符串\n",
    "                for j in range(len(tokens), i, -1):\n",
    "                    substr = tokens[i:j]\n",
    "                    if substr in self.token_to_id:\n",
    "                        match = substr\n",
    "                        break\n",
    "                # 如果找到匹配，添加对应的数字\n",
    "                if match:\n",
    "                    number_list.append(self.token_to_id[match])\n",
    "                    i += len(match)\n",
    "                else:\n",
    "                    # 如果没有匹配，使用单个字符或UNK（默认UNK为3）\n",
    "                    number_list.append(self.token_to_id.get(tokens[i], self.token_to_id.get(\"UNK\", 3)))\n",
    "                    i += 1\n",
    "\n",
    "\n",
    "            encoded_inputs['input_ids'].append(number_list)\n",
    "            encoded_inputs['attention_mask'].append([1] * len(number_list))\n",
    "        \n",
    "        return encoded_inputs"
   ]
  },
  {
   "cell_type": "code",
   "execution_count": null,
   "metadata": {},
   "outputs": [],
   "source": []
  },
  {
   "cell_type": "code",
   "execution_count": null,
   "metadata": {},
   "outputs": [],
   "source": []
  },
  {
   "cell_type": "code",
   "execution_count": null,
   "metadata": {},
   "outputs": [],
   "source": []
  },
  {
   "cell_type": "code",
   "execution_count": null,
   "metadata": {},
   "outputs": [],
   "source": []
  },
  {
   "cell_type": "code",
   "execution_count": null,
   "metadata": {},
   "outputs": [],
   "source": []
  }
 ],
 "metadata": {
  "kernelspec": {
   "display_name": "Python 3",
   "language": "python",
   "name": "python3"
  },
  "language_info": {
   "name": "python",
   "version": "3.9.19"
  }
 },
 "nbformat": 4,
 "nbformat_minor": 2
}
