{
 "cells": [
  {
   "cell_type": "code",
   "execution_count": null,
   "metadata": {},
   "outputs": [],
   "source": [
    "import re\n",
    "\n",
    "with open('F.txt', 'r', encoding='utf-8') as f:\n",
    "    content = f.read()\n",
    "\n",
    "import json\n",
    "\n",
    "\n",
    "\n",
    "token_pattern = re.compile(r'''\n",
    "    (\\\\begin\\{[^{}]*\\}|\\\\end\\{[^{}]*\\}    \n",
    "    | \\\\[a-zA-Z]+                         \n",
    "    | \\\\\\\\                               \n",
    "    | \\\\[{}#%&_$|]                        \n",
    "    | \\\\[!,:;]                            \n",
    "    | \\'[\\^]?                             \n",
    "    | \\^                                  \n",
    "    | \\_                                  \n",
    "    | \\n                                  \n",
    "    | \\s+                                 \n",
    "    | [-+*=&/%<>!?.,;:'\"()]               \n",
    "    | [0-9]                               \n",
    "    | \\$\\$                                \n",
    "    | \\S)                                 \n",
    "''', re.VERBOSE)\n",
    "\n",
    "\n",
    "token_to_id = {  \n",
    "    \"PAD\": 0,  \n",
    "    \"BOS\": 1,  \n",
    "    \"EOS\": 2\n",
    "}  \n",
    "  \n",
    "tokens = set(token_pattern.findall(content))\n",
    "  \n",
    "for idx, token in enumerate(sorted(tokens), start=3):  \n",
    "    token_to_id[token] = idx  \n",
    "  \n",
    "id_to_token = {idx: token for token, idx in token_to_id.items()}  \n",
    "  \n",
    "with open('token_to_id.json', 'w', encoding='utf-8') as json_file:  \n",
    "    json.dump(token_to_id, json_file, ensure_ascii=False, indent=4)"
   ]
  },
  {
   "cell_type": "code",
   "execution_count": null,
   "metadata": {},
   "outputs": [],
   "source": [
    "import json\n",
    "\n",
    "class Words:\n",
    "    def __init__(self, token_to_id_path):\n",
    "        with open(token_to_id_path, 'r', encoding='utf-8') as json_file:\n",
    "            self.token_to_id = json.load(json_file)\n",
    "        print(f\"共有{len(self.token_to_id)}个token\")\n",
    "\n",
    "    def __len__(self):\n",
    "        return len(self.token_to_id)\n",
    "\n",
    "    def encode(self, tokens_list):\n",
    "        encoded_inputs = {'input_ids': [], 'attention_mask': []}\n",
    "        for tokens in tokens_list:\n",
    "            number_list = []\n",
    "            i = 0\n",
    "            while i < len(tokens):\n",
    "                match = None\n",
    "                for j in range(len(tokens), i, -1):\n",
    "                    substr = tokens[i:j]\n",
    "                    if substr in self.token_to_id:\n",
    "                        match = substr\n",
    "                        break\n",
    "                if match:\n",
    "                    number_list.append(self.token_to_id[match])\n",
    "                    i += len(match)\n",
    "                else:\n",
    "                    number_list.append(self.token_to_id.get(tokens[i], self.token_to_id.get(\"UNK\", 3)))\n",
    "                    i += 1\n",
    "\n",
    "\n",
    "            encoded_inputs['input_ids'].append(number_list)\n",
    "            encoded_inputs['attention_mask'].append([1] * len(number_list))\n",
    "        \n",
    "        return encoded_inputs"
   ]
  },
  {
   "cell_type": "code",
   "execution_count": null,
   "metadata": {},
   "outputs": [],
   "source": []
  },
  {
   "cell_type": "code",
   "execution_count": null,
   "metadata": {},
   "outputs": [],
   "source": []
  },
  {
   "cell_type": "code",
   "execution_count": null,
   "metadata": {},
   "outputs": [],
   "source": []
  },
  {
   "cell_type": "code",
   "execution_count": null,
   "metadata": {},
   "outputs": [],
   "source": []
  },
  {
   "cell_type": "code",
   "execution_count": null,
   "metadata": {},
   "outputs": [],
   "source": []
  }
 ],
 "metadata": {
  "kernelspec": {
   "display_name": "Python 3",
   "language": "python",
   "name": "python3"
  },
  "language_info": {
   "name": "python",
   "version": "3.9.19"
  }
 },
 "nbformat": 4,
 "nbformat_minor": 2
}
